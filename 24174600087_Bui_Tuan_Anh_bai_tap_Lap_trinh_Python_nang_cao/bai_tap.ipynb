{
 "cells": [
  {
   "cell_type": "code",
   "execution_count": 3,
   "id": "dc611ec4",
   "metadata": {},
   "outputs": [
    {
     "name": "stdout",
     "output_type": "stream",
     "text": [
      "=== Thông tin hình chữ nhật ===\n",
      "Chiều dài: 1424.0\n",
      "Chiều rộng: 62656.0\n",
      "Chu vi: 128160.0\n",
      "Diện tích: 89222144.0\n"
     ]
    }
   ],
   "source": [
    "#Bài 1\n",
    "class Hinh_chu_nhat:\n",
    "    def __init__(self):\n",
    "        self.dai = 0\n",
    "        self.rong = 0\n",
    "    def nhap_du_lieu(self):\n",
    "        self.dai = float(input(\"Nhập chiều dài: \"))\n",
    "        self.rong = float(input(\"Nhập chiều rộng: \"))\n",
    "    def tinh_chu_vi(self):\n",
    "        return 2 * (self.dai + self.rong)\n",
    "    def tinh_dien_tich(self):\n",
    "        return self.dai * self.rong\n",
    "    def in_thong_tin(self):\n",
    "        print(\"=== Thông tin hình chữ nhật ===\")\n",
    "        print(\"Chiều dài:\", self.dai)\n",
    "        print(\"Chiều rộng:\", self.rong)\n",
    "        print(\"Chu vi:\", self.tinh_chu_vi())\n",
    "        print(\"Diện tích:\", self.tinh_dien_tich())\n",
    "if __name__ == \"__main__\":\n",
    "    hcn = Hinh_chu_nhat()   \n",
    "    hcn.nhap_du_lieu()      \n",
    "    hcn.in_thong_tin()"
   ]
  },
  {
   "cell_type": "code",
   "execution_count": 4,
   "id": "a40945b2",
   "metadata": {},
   "outputs": [
    {
     "ename": "KeyboardInterrupt",
     "evalue": "Interrupted by user",
     "output_type": "error",
     "traceback": [
      "\u001b[31m---------------------------------------------------------------------------\u001b[39m",
      "\u001b[31mKeyboardInterrupt\u001b[39m                         Traceback (most recent call last)",
      "\u001b[36mCell\u001b[39m\u001b[36m \u001b[39m\u001b[32mIn[4]\u001b[39m\u001b[32m, line 22\u001b[39m\n\u001b[32m     20\u001b[39m \u001b[38;5;28;01mif\u001b[39;00m \u001b[34m__name__\u001b[39m == \u001b[33m\"\u001b[39m\u001b[33m__main__\u001b[39m\u001b[33m\"\u001b[39m:\n\u001b[32m     21\u001b[39m     danh_sach = []\n\u001b[32m---> \u001b[39m\u001b[32m22\u001b[39m     n = \u001b[38;5;28mint\u001b[39m(\u001b[38;5;28;43minput\u001b[39;49m\u001b[43m(\u001b[49m\u001b[33;43m\"\u001b[39;49m\u001b[33;43mNhập số lượng thí sinh: \u001b[39;49m\u001b[33;43m\"\u001b[39;49m\u001b[43m)\u001b[49m)\n\u001b[32m     23\u001b[39m     \u001b[38;5;28;01mfor\u001b[39;00m i \u001b[38;5;129;01min\u001b[39;00m \u001b[38;5;28mrange\u001b[39m(n):\n\u001b[32m     24\u001b[39m         \u001b[38;5;28mprint\u001b[39m(\u001b[33mf\u001b[39m\u001b[33m\"\u001b[39m\u001b[38;5;130;01m\\n\u001b[39;00m\u001b[33mNhập thông tin thí sinh thứ \u001b[39m\u001b[38;5;132;01m{\u001b[39;00mi+\u001b[32m1\u001b[39m\u001b[38;5;132;01m}\u001b[39;00m\u001b[33m:\u001b[39m\u001b[33m\"\u001b[39m)\n",
      "\u001b[36mFile \u001b[39m\u001b[32m~\\AppData\\Roaming\\Python\\Python313\\site-packages\\ipykernel\\kernelbase.py:1275\u001b[39m, in \u001b[36mKernel.raw_input\u001b[39m\u001b[34m(self, prompt)\u001b[39m\n\u001b[32m   1273\u001b[39m     msg = \u001b[33m\"\u001b[39m\u001b[33mraw_input was called, but this frontend does not support input requests.\u001b[39m\u001b[33m\"\u001b[39m\n\u001b[32m   1274\u001b[39m     \u001b[38;5;28;01mraise\u001b[39;00m StdinNotImplementedError(msg)\n\u001b[32m-> \u001b[39m\u001b[32m1275\u001b[39m \u001b[38;5;28;01mreturn\u001b[39;00m \u001b[38;5;28;43mself\u001b[39;49m\u001b[43m.\u001b[49m\u001b[43m_input_request\u001b[49m\u001b[43m(\u001b[49m\n\u001b[32m   1276\u001b[39m \u001b[43m    \u001b[49m\u001b[38;5;28;43mstr\u001b[39;49m\u001b[43m(\u001b[49m\u001b[43mprompt\u001b[49m\u001b[43m)\u001b[49m\u001b[43m,\u001b[49m\n\u001b[32m   1277\u001b[39m \u001b[43m    \u001b[49m\u001b[38;5;28;43mself\u001b[39;49m\u001b[43m.\u001b[49m\u001b[43m_parent_ident\u001b[49m\u001b[43m[\u001b[49m\u001b[33;43m\"\u001b[39;49m\u001b[33;43mshell\u001b[39;49m\u001b[33;43m\"\u001b[39;49m\u001b[43m]\u001b[49m\u001b[43m,\u001b[49m\n\u001b[32m   1278\u001b[39m \u001b[43m    \u001b[49m\u001b[38;5;28;43mself\u001b[39;49m\u001b[43m.\u001b[49m\u001b[43mget_parent\u001b[49m\u001b[43m(\u001b[49m\u001b[33;43m\"\u001b[39;49m\u001b[33;43mshell\u001b[39;49m\u001b[33;43m\"\u001b[39;49m\u001b[43m)\u001b[49m\u001b[43m,\u001b[49m\n\u001b[32m   1279\u001b[39m \u001b[43m    \u001b[49m\u001b[43mpassword\u001b[49m\u001b[43m=\u001b[49m\u001b[38;5;28;43;01mFalse\u001b[39;49;00m\u001b[43m,\u001b[49m\n\u001b[32m   1280\u001b[39m \u001b[43m\u001b[49m\u001b[43m)\u001b[49m\n",
      "\u001b[36mFile \u001b[39m\u001b[32m~\\AppData\\Roaming\\Python\\Python313\\site-packages\\ipykernel\\kernelbase.py:1320\u001b[39m, in \u001b[36mKernel._input_request\u001b[39m\u001b[34m(self, prompt, ident, parent, password)\u001b[39m\n\u001b[32m   1317\u001b[39m \u001b[38;5;28;01mexcept\u001b[39;00m \u001b[38;5;167;01mKeyboardInterrupt\u001b[39;00m:\n\u001b[32m   1318\u001b[39m     \u001b[38;5;66;03m# re-raise KeyboardInterrupt, to truncate traceback\u001b[39;00m\n\u001b[32m   1319\u001b[39m     msg = \u001b[33m\"\u001b[39m\u001b[33mInterrupted by user\u001b[39m\u001b[33m\"\u001b[39m\n\u001b[32m-> \u001b[39m\u001b[32m1320\u001b[39m     \u001b[38;5;28;01mraise\u001b[39;00m \u001b[38;5;167;01mKeyboardInterrupt\u001b[39;00m(msg) \u001b[38;5;28;01mfrom\u001b[39;00m\u001b[38;5;250m \u001b[39m\u001b[38;5;28;01mNone\u001b[39;00m\n\u001b[32m   1321\u001b[39m \u001b[38;5;28;01mexcept\u001b[39;00m \u001b[38;5;167;01mException\u001b[39;00m:\n\u001b[32m   1322\u001b[39m     \u001b[38;5;28mself\u001b[39m.log.warning(\u001b[33m\"\u001b[39m\u001b[33mInvalid Message:\u001b[39m\u001b[33m\"\u001b[39m, exc_info=\u001b[38;5;28;01mTrue\u001b[39;00m)\n",
      "\u001b[31mKeyboardInterrupt\u001b[39m: Interrupted by user"
     ]
    }
   ],
   "source": [
    "#Bài 2\n",
    "class Thi_sinh:\n",
    "    def __init__(self):\n",
    "        self.ho_ten = \"\"\n",
    "        self.toan = 0\n",
    "        self.ly = 0\n",
    "        self.hoa = 0\n",
    "    def nhap_thong_tin(self):\n",
    "        self.ho_ten = input(\"Nhập họ tên thí sinh: \")\n",
    "        self.toan = float(input(\"Nhập điểm Toán: \"))\n",
    "        self.ly = float(input(\"Nhập điểm Lý: \"))\n",
    "        self.hoa = float(input(\"Nhập điểm Hóa: \"))\n",
    "    def tong_diem(self):\n",
    "        return self.toan + self.ly + self.hoa\n",
    "    def in_thong_tin(self):\n",
    "        print(f\"Họ tên: {self.ho_ten}\")\n",
    "        print(f\"Điểm Toán: {self.toan}, Lý: {self.ly}, Hóa: {self.hoa}\")\n",
    "        print(f\"Tổng điểm: {self.tong_diem()}\")\n",
    "        print(\"-\" * 30)   \n",
    "if __name__ == \"__main__\":\n",
    "    danh_sach = []\n",
    "    n = int(input(\"Nhập số lượng thí sinh: \"))\n",
    "    for i in range(n):\n",
    "        print(f\"\\nNhập thông tin thí sinh thứ {i+1}:\")\n",
    "        ts = Thi_sinh()\n",
    "        ts.nhap_thong_tin()\n",
    "        danh_sach.append(ts)\n",
    "    danh_sach.sort(key=lambda x: x.tong_diem(), reverse=True)\n",
    "    print(\"\\n=== Danh sách thí sinh ===\")\n",
    "    for ts in danh_sach:\n",
    "        ts.in_thong_tin()\n",
    "    trung_tuyen = [ts for ts in danh_sach if ts.tong_diem() >= 20]\n",
    "    print(\"\\n=== Danh sách thí sinh trúng tuyển (>=20 điểm) ===\")\n",
    "    if trung_tuyen:\n",
    "        for ts in trung_tuyen:\n",
    "            ts.in_thong_tin()\n",
    "    else:\n",
    "        print(\"Không có thí sinh nào trúng tuyển.\")\n"
   ]
  },
  {
   "cell_type": "code",
   "execution_count": null,
   "id": "ce975520",
   "metadata": {},
   "outputs": [
    {
     "name": "stdout",
     "output_type": "stream",
     "text": [
      "Phân số: 9/64\n"
     ]
    }
   ],
   "source": [
    "#Bài 3\n",
    "class Phan_so:\n",
    "    def __init__(self):\n",
    "        self.tu = 0\n",
    "        self.mau = 1  \n",
    "    def kiem_tra_hop_le(self):\n",
    "        return self.mau != 0\n",
    "    def nhap_ps(self):\n",
    "        self.tu = int(input(\"Nhập tử số: \"))\n",
    "        self.mau = int(input(\"Nhập mẫu số: \"))\n",
    "        while self.mau == 0:\n",
    "            print(\"Mẫu số phải khác 0. Vui lòng nhập lại!\")\n",
    "            self.mau = int(input(\"Nhập mẫu số: \"))\n",
    "    def in_ps(self):\n",
    "        if self.kiem_tra_hop_le():\n",
    "            print(f\"Phân số: {self.tu}/{self.mau}\")\n",
    "        else:\n",
    "            print(\"Phân số không hợp lệ (mẫu = 0).\")\n",
    "if __name__ == \"__main__\":\n",
    "    ps = Phan_so()\n",
    "    ps.nhap_ps()\n",
    "    ps.in_ps()\n"
   ]
  },
  {
   "cell_type": "code",
   "execution_count": null,
   "id": "c4ad38ac",
   "metadata": {},
   "outputs": [
    {
     "name": "stdout",
     "output_type": "stream",
     "text": [
      "Đã đưa 3.5 vào ngăn xếp.\n",
      "Đã đưa 7.2 vào ngăn xếp.\n",
      "Đã đưa 1.8 vào ngăn xếp.\n",
      "Đã lấy 1.8 ra khỏi ngăn xếp.\n",
      "Đã lấy 7.2 ra khỏi ngăn xếp.\n",
      "Đã lấy 3.5 ra khỏi ngăn xếp.\n",
      "Ngăn xếp rỗng, không thể lấy phần tử!\n"
     ]
    }
   ],
   "source": [
    "#Bài 4\n",
    "class Stack:\n",
    "    def __init__(self, capacity):\n",
    "        self.capacity = capacity\n",
    "        self.stack = [0.0] * capacity \n",
    "        self.top = -1                  \n",
    "\n",
    "    def __del__(self):\n",
    "        print(\"Ngăn xếp đã được giải phóng.\")\n",
    "    def isEmpty(self):\n",
    "        return self.top == -1\n",
    "    def isFull(self):\n",
    "        return self.top == self.capacity - 1\n",
    "    def push(self, value):\n",
    "        if self.isFull():\n",
    "            print(\"Ngăn xếp đã đầy, không thể thêm!\")\n",
    "        else:\n",
    "            self.top += 1\n",
    "            self.stack[self.top] = float(value)\n",
    "            print(f\"Đã đưa {value} vào ngăn xếp.\")\n",
    "    def pop(self):\n",
    "        if self.isEmpty():\n",
    "            print(\"Ngăn xếp rỗng, không thể lấy phần tử!\")\n",
    "            return None\n",
    "        else:\n",
    "            value = self.stack[self.top]\n",
    "            self.top -= 1\n",
    "            print(f\"Đã lấy {value} ra khỏi ngăn xếp.\")\n",
    "            return value\n",
    "if __name__ == \"__main__\":\n",
    "    n = int(input(\"Nhập kích thước ngăn xếp: \"))\n",
    "    st = Stack(n)\n",
    "    st.push(3.5)\n",
    "    st.push(7.2)\n",
    "    st.push(1.8)\n",
    "    st.pop()\n",
    "    st.pop()\n",
    "    st.pop()\n",
    "    st.pop()\n"
   ]
  },
  {
   "cell_type": "code",
   "execution_count": null,
   "id": "5b38dfe9",
   "metadata": {},
   "outputs": [
    {
     "name": "stdout",
     "output_type": "stream",
     "text": [
      "Ngăn xếp đã được giải phóng.\n",
      "Đã đưa 10 vào ngăn xếp.\n",
      "Đã đưa 20 vào ngăn xếp.\n",
      "Đã đưa 30 vào ngăn xếp.\n",
      "Số phần tử hiện có trong ngăn xếp: 3\n",
      "Đã lấy 30.0 ra khỏi ngăn xếp.\n",
      "Số phần tử hiện có sau khi pop: 2\n"
     ]
    }
   ],
   "source": [
    "#Bài 5\n",
    "class Stack:\n",
    "    def __init__(self, capacity):\n",
    "        self.capacity = capacity\n",
    "        self.stack = [0.0] * capacity  \n",
    "        self.top = -1                 \n",
    "    def __del__(self):\n",
    "        print(\"Ngăn xếp đã được giải phóng.\")\n",
    "    def isEmpty(self):\n",
    "        return self.top == -1\n",
    "    def isFull(self):\n",
    "        return self.top == self.capacity - 1\n",
    "    def push(self, value):\n",
    "        if self.isFull():\n",
    "            print(\"Ngăn xếp đã đầy, không thể thêm!\")\n",
    "        else:\n",
    "            self.top += 1\n",
    "            self.stack[self.top] = float(value)\n",
    "            print(f\"Đã đưa {value} vào ngăn xếp.\")\n",
    "    def pop(self):\n",
    "        if self.isEmpty():\n",
    "            print(\"Ngăn xếp rỗng, không thể lấy phần tử!\")\n",
    "            return None\n",
    "        else:\n",
    "            value = self.stack[self.top]\n",
    "            self.top -= 1\n",
    "            print(f\"Đã lấy {value} ra khỏi ngăn xếp.\")\n",
    "            return value\n",
    "    def count(self):\n",
    "        return self.top + 1\n",
    "if __name__ == \"__main__\":\n",
    "    n = int(input(\"Nhập kích thước ngăn xếp: \"))\n",
    "    st = Stack(n)\n",
    "    st.push(10)\n",
    "    st.push(20)\n",
    "    st.push(30)\n",
    "    print(\"Số phần tử hiện có trong ngăn xếp:\", st.count())\n",
    "    st.pop()\n",
    "    print(\"Số phần tử hiện có sau khi pop:\", st.count())\n"
   ]
  },
  {
   "cell_type": "code",
   "execution_count": null,
   "id": "ef605f56",
   "metadata": {},
   "outputs": [
    {
     "name": "stdout",
     "output_type": "stream",
     "text": [
      "Ngăn xếp đã được giải phóng.\n",
      "Số phần tử hiện có: 3\n",
      "Số phần tử sau khi pop: 2\n"
     ]
    }
   ],
   "source": [
    "#Bài 6\n",
    "class Stack:\n",
    "    def __init__(self, capacity):\n",
    "        self.capacity = capacity\n",
    "        self.stack = [0.0] * capacity\n",
    "        self.top = -1\n",
    "    def __del__(self):\n",
    "        print(\"Đã giải phóng ngăn xếp.\")\n",
    "    def isEmpty(self):\n",
    "        return self.top == -1\n",
    "    def isFull(self):\n",
    "        return self.top == self.capacity - 1\n",
    "    def push(self, value):\n",
    "        if self.isFull():\n",
    "            print(\"Ngăn xếp đầy, không thể thêm!\")\n",
    "        else:\n",
    "            self.top += 1\n",
    "            self.stack[self.top] = float(value)\n",
    "    def pop(self):\n",
    "        if self.isEmpty():\n",
    "            print(\"Ngăn xếp rỗng, không thể lấy phần tử!\")\n",
    "            return None\n",
    "        else:\n",
    "            value = self.stack[self.top]\n",
    "            self.top -= 1\n",
    "            return value\n",
    "    def count(self):\n",
    "        return self.top + 1\n",
    "if __name__ == \"__main__\":\n",
    "    n = int(input(\"Nhập kích thước ngăn xếp: \"))\n",
    "    st = Stack(n)\n",
    "    st.push(5.5)\n",
    "    st.push(7.2)\n",
    "    st.push(9.1)\n",
    "    print(\"Số phần tử hiện có:\", st.count())\n",
    "    st.pop()\n",
    "    print(\"Số phần tử sau khi pop:\", st.count())\n"
   ]
  },
  {
   "cell_type": "code",
   "execution_count": null,
   "id": "9c960af4",
   "metadata": {},
   "outputs": [
    {
     "name": "stdout",
     "output_type": "stream",
     "text": [
      "Tổng số  đối tượng Dog:2\n"
     ]
    }
   ],
   "source": [
    "class Dog: \n",
    "    DogCount = 0          \n",
    "    def __init__(self, name, size, age, color): \n",
    "        self.name = name   \n",
    "        self.size = size   \n",
    "        self.color = color\n",
    "        Dog.DogCount += 1 \n",
    "    @staticmethod \n",
    "    def Report(): \n",
    "       print(\"Tổng số  đối tượng Dog:{}\".format(Dog.DogCount)) \n",
    "dog1 = Dog(\"Buddy\", \"Medium\", 5, \"Brown\") \n",
    "dog2 = Dog(\"Max\", \"Small\", 3, \"Black\") \n",
    "dog1.Report() "
   ]
  },
  {
   "cell_type": "code",
   "execution_count": 5,
   "id": "808c2622",
   "metadata": {},
   "outputs": [
    {
     "name": "stdout",
     "output_type": "stream",
     "text": [
      "obj1 is a Dog\n",
      "obj2 is also a Dog\n",
      "Buddy is 5 years old\n",
      "Max is 3 years old\n"
     ]
    }
   ],
   "source": [
    "class Dog: \n",
    "    # Thuộc tính lớp \n",
    "    DogCount = 0 \n",
    "    species = 'Dog' \n",
    " \n",
    "    # instance attribute \n",
    "    def __init__(self, name, size, age, color): \n",
    "        self.name = name   # Thuộc tính đối tượng \n",
    "        self.size = size \n",
    "        self.age  = age \n",
    "        self.color = color \n",
    " \n",
    "#instance của lớp Dog \n",
    "obj1 = Dog(\"Buddy\", \"Medium\", 5, \"Brown\") \n",
    "obj2 = Dog(\"Max\", \"Small\", 3, \"Black\") \n",
    " \n",
    "#Truy cập thuộc tính lớp \n",
    "print(\"obj1 is a {}\".format(obj1.__class__.species)) \n",
    "print(\"obj2 is also a {}\".format(obj2.__class__.species)) \n",
    " \n",
    "#Truy cập thuộc tính của instance \n",
    "print(\"{} is {} years old\".format(obj1.name, obj1.age)) \n",
    "print(\"{} is {} years old\".format(obj2.name, obj2.age)) "
   ]
  },
  {
   "cell_type": "code",
   "execution_count": null,
   "id": "962f4c9e",
   "metadata": {},
   "outputs": [
    {
     "name": "stdout",
     "output_type": "stream",
     "text": [
      "Zebra\n",
      "Donkey\n",
      "Zonkey\n",
      "I'm a zebra\n"
     ]
    }
   ],
   "source": [
    "class Zebra:                   \n",
    "    def __init__ (self): \n",
    "        print (\"Zebra\") \n",
    "    def Display(self):  \n",
    "        print(\"I'm a zebra\") \n",
    "class Donkey:                    \n",
    "    def __init__(self): \n",
    "            print(\"Donkey\")  \n",
    "     \n",
    "    def Display(self): \n",
    "        print(\"I'm a donkey\") \n",
    "class Zonkey(Zebra, Donkey):    \n",
    "    def __init__(self): \n",
    "        Zebra.__init__(self)  \n",
    "        Donkey.__init__ (self)  \n",
    "        print(\"Zonkey\")       \n",
    "obj = Zonkey()                       \n",
    "obj.Display() "
   ]
  },
  {
   "cell_type": "code",
   "execution_count": null,
   "id": "66c8fcdc",
   "metadata": {},
   "outputs": [
    {
     "name": "stdout",
     "output_type": "stream",
     "text": [
      "Whoooopp whoooppp...\n",
      "Meooo meooo\n"
     ]
    }
   ],
   "source": [
    "from abc import ABC, abstractmethod \n",
    "\n",
    "class Animal(ABC): \n",
    "    @abstractmethod \n",
    "    def Say(self): \n",
    "        pass \n",
    "\n",
    "class Dog(Animal): \n",
    "    def Say(self): \n",
    "        print(\"Whoooopp whoooppp...\") \n",
    "\n",
    "class Cat(Animal): \n",
    "    def Say(self): \n",
    "        print(\"Meooo meooo\") \n",
    "\n",
    "    def Jump(self): \n",
    "        print(\"I'm jumping up high\")\n",
    "obj_dog = Dog()\n",
    "obj_dog.Say() \n",
    "obj_cat=Cat()\n",
    "obj_cat.Say()"
   ]
  },
  {
   "cell_type": "code",
   "execution_count": 9,
   "id": "91f2dbf0",
   "metadata": {},
   "outputs": [
    {
     "name": "stdout",
     "output_type": "stream",
     "text": [
      "Whoooopp whooooppp...\n",
      "Meooo meooo\n"
     ]
    }
   ],
   "source": [
    "from abc import ABC, abstractmethod\n",
    "\n",
    "#Tạo lớp trừu tượng 'Animal' với phương thức trừu tượng 'Say'\n",
    "class Animal(ABC):\n",
    "    @abstractmethod\n",
    "    def Say(self):\n",
    "        pass\n",
    "\n",
    "#Tạo lớp con 'Dog' kế thừa từ 'Animal'\n",
    "class Dog(Animal):\n",
    "    def Say(self):\n",
    "        print(\"Whoooopp whooooppp...\")\n",
    "\n",
    "#Tạo lớp con 'Cat' kế thừa từ 'Animal'\n",
    "class Cat(Animal):\n",
    "    def Say(self):\n",
    "        print(\"Meooo meooo\")\n",
    "\n",
    "    #Định nghĩa một phương thức 'Jump' cho lớp 'Cat'\n",
    "    def Jump(self):\n",
    "        print(\"I'm jumping up high\")\n",
    "\n",
    "\n",
    "#Khởi tạo đối tượng từ lớp 'Dog'\n",
    "obj_dog = Dog()\n",
    "#Gọi phương thức 'Say' của đối tượng 'obj_dog'\n",
    "obj_dog.Say()\n",
    "\n",
    "#Khởi tạo đối tượng từ lớp 'Cat'\n",
    "obj_cat=Cat()\n",
    "#Gọi phương thức 'Say' của đối tượng 'obj_cat'\n",
    "obj_cat.Say()\n"
   ]
  }
 ],
 "metadata": {
  "kernelspec": {
   "display_name": "Python 3",
   "language": "python",
   "name": "python3"
  },
  "language_info": {
   "codemirror_mode": {
    "name": "ipython",
    "version": 3
   },
   "file_extension": ".py",
   "mimetype": "text/x-python",
   "name": "python",
   "nbconvert_exporter": "python",
   "pygments_lexer": "ipython3",
   "version": "3.13.7"
  }
 },
 "nbformat": 4,
 "nbformat_minor": 5
}
