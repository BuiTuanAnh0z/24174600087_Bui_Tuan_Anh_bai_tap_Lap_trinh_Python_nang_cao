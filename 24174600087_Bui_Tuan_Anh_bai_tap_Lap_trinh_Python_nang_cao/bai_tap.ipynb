{
 "cells": [
  {
   "cell_type": "code",
   "execution_count": 16,
   "id": "dc611ec4",
   "metadata": {},
   "outputs": [
    {
     "name": "stdout",
     "output_type": "stream",
     "text": [
      "=== Thông tin hình chữ nhật ===\n",
      "Chiều dài: 8.0\n",
      "Chiều rộng: 7.0\n",
      "Chu vi: 30.0\n",
      "Diện tích: 56.0\n"
     ]
    }
   ],
   "source": [
    "#Bài 1\n",
    "class Hinh_chu_nhat:\n",
    "    def __init__(self):\n",
    "        self.dai = 0\n",
    "        self.rong = 0\n",
    "    def nhap_du_lieu(self):\n",
    "        self.dai = float(input(\"Nhập chiều dài: \"))\n",
    "        self.rong = float(input(\"Nhập chiều rộng: \"))\n",
    "    def tinh_chu_vi(self):\n",
    "        return 2 * (self.dai + self.rong)\n",
    "    def tinh_dien_tich(self):\n",
    "        return self.dai * self.rong\n",
    "    def in_thong_tin(self):\n",
    "        print(\"=== Thông tin hình chữ nhật ===\")\n",
    "        print(\"Chiều dài:\", self.dai)\n",
    "        print(\"Chiều rộng:\", self.rong)\n",
    "        print(\"Chu vi:\", self.tinh_chu_vi())\n",
    "        print(\"Diện tích:\", self.tinh_dien_tich())\n",
    "if __name__ == \"__main__\":\n",
    "    hcn = Hinh_chu_nhat()   \n",
    "    hcn.nhap_du_lieu()      \n",
    "    hcn.in_thong_tin()"
   ]
  },
  {
   "cell_type": "code",
   "execution_count": 17,
   "id": "a40945b2",
   "metadata": {},
   "outputs": [
    {
     "name": "stdout",
     "output_type": "stream",
     "text": [
      "\n",
      "Nhập thông tin thí sinh thứ 1:\n",
      "\n",
      "Nhập thông tin thí sinh thứ 2:\n",
      "\n",
      "=== Danh sách thí sinh ===\n",
      "Họ tên: Tuấn \n",
      "Điểm Toán: 8.0, Lý: 7.0, Hóa: 9.0\n",
      "Tổng điểm: 24.0\n",
      "------------------------------\n",
      "Họ tên: Phương\n",
      "Điểm Toán: 7.0, Lý: 8.0, Hóa: 8.0\n",
      "Tổng điểm: 23.0\n",
      "------------------------------\n",
      "\n",
      "=== Danh sách thí sinh trúng tuyển (>=20 điểm) ===\n",
      "Họ tên: Tuấn \n",
      "Điểm Toán: 8.0, Lý: 7.0, Hóa: 9.0\n",
      "Tổng điểm: 24.0\n",
      "------------------------------\n",
      "Họ tên: Phương\n",
      "Điểm Toán: 7.0, Lý: 8.0, Hóa: 8.0\n",
      "Tổng điểm: 23.0\n",
      "------------------------------\n"
     ]
    }
   ],
   "source": [
    "#Bài 2\n",
    "class Thi_sinh:\n",
    "    def __init__(self):\n",
    "        self.ho_ten = \"\"\n",
    "        self.toan = 0\n",
    "        self.ly = 0\n",
    "        self.hoa = 0\n",
    "    def nhap_thong_tin(self):\n",
    "        self.ho_ten = input(\"Nhập họ tên thí sinh: \")\n",
    "        self.toan = float(input(\"Nhập điểm Toán: \"))\n",
    "        self.ly = float(input(\"Nhập điểm Lý: \"))\n",
    "        self.hoa = float(input(\"Nhập điểm Hóa: \"))\n",
    "    def tong_diem(self):\n",
    "        return self.toan + self.ly + self.hoa\n",
    "    def in_thong_tin(self):\n",
    "        print(f\"Họ tên: {self.ho_ten}\")\n",
    "        print(f\"Điểm Toán: {self.toan}, Lý: {self.ly}, Hóa: {self.hoa}\")\n",
    "        print(f\"Tổng điểm: {self.tong_diem()}\")\n",
    "        print(\"-\" * 30)   \n",
    "if __name__ == \"__main__\":\n",
    "    danh_sach = []\n",
    "    n = int(input(\"Nhập số lượng thí sinh: \"))\n",
    "    for i in range(n):\n",
    "        print(f\"\\nNhập thông tin thí sinh thứ {i+1}:\")\n",
    "        ts = Thi_sinh()\n",
    "        ts.nhap_thong_tin()\n",
    "        danh_sach.append(ts)\n",
    "    danh_sach.sort(key=lambda x: x.tong_diem(), reverse=True)\n",
    "    print(\"\\n=== Danh sách thí sinh ===\")\n",
    "    for ts in danh_sach:\n",
    "        ts.in_thong_tin()\n",
    "    trung_tuyen = [ts for ts in danh_sach if ts.tong_diem() >= 20]\n",
    "    print(\"\\n=== Danh sách thí sinh trúng tuyển (>=20 điểm) ===\")\n",
    "    if trung_tuyen:\n",
    "        for ts in trung_tuyen:\n",
    "            ts.in_thong_tin()\n",
    "    else:\n",
    "        print(\"Không có thí sinh nào trúng tuyển.\")\n"
   ]
  },
  {
   "cell_type": "code",
   "execution_count": 18,
   "id": "ce975520",
   "metadata": {},
   "outputs": [
    {
     "name": "stdout",
     "output_type": "stream",
     "text": [
      "Phân số: 8/56\n"
     ]
    }
   ],
   "source": [
    "#Bài 3\n",
    "class Phan_so:\n",
    "    def __init__(self):\n",
    "        self.tu = 0\n",
    "        self.mau = 1  \n",
    "    def kiem_tra_hop_le(self):\n",
    "        return self.mau != 0\n",
    "    def nhap_ps(self):\n",
    "        self.tu = int(input(\"Nhập tử số: \"))\n",
    "        self.mau = int(input(\"Nhập mẫu số: \"))\n",
    "        while self.mau == 0:\n",
    "            print(\"Mẫu số phải khác 0. Vui lòng nhập lại!\")\n",
    "            self.mau = int(input(\"Nhập mẫu số: \"))\n",
    "    def in_ps(self):\n",
    "        if self.kiem_tra_hop_le():\n",
    "            print(f\"Phân số: {self.tu}/{self.mau}\")\n",
    "        else:\n",
    "            print(\"Phân số không hợp lệ (mẫu = 0).\")\n",
    "if __name__ == \"__main__\":\n",
    "    ps = Phan_so()\n",
    "    ps.nhap_ps()\n",
    "    ps.in_ps()\n"
   ]
  },
  {
   "cell_type": "code",
   "execution_count": 19,
   "id": "c4ad38ac",
   "metadata": {},
   "outputs": [
    {
     "name": "stdout",
     "output_type": "stream",
     "text": [
      "Đã giải phóng ngăn xếp.\n",
      "Đã đưa 3.5 vào ngăn xếp.\n",
      "Đã đưa 7.2 vào ngăn xếp.\n",
      "Đã đưa 1.8 vào ngăn xếp.\n",
      "Đã lấy 1.8 ra khỏi ngăn xếp.\n",
      "Đã lấy 7.2 ra khỏi ngăn xếp.\n",
      "Đã lấy 3.5 ra khỏi ngăn xếp.\n",
      "Ngăn xếp rỗng, không thể lấy phần tử!\n"
     ]
    }
   ],
   "source": [
    "#Bài 4\n",
    "class Stack:\n",
    "    def __init__(self, capacity):\n",
    "        self.capacity = capacity\n",
    "        self.stack = [0.0] * capacity \n",
    "        self.top = -1                  \n",
    "\n",
    "    def __del__(self):\n",
    "        print(\"Ngăn xếp đã được giải phóng.\")\n",
    "    def isEmpty(self):\n",
    "        return self.top == -1\n",
    "    def isFull(self):\n",
    "        return self.top == self.capacity - 1\n",
    "    def push(self, value):\n",
    "        if self.isFull():\n",
    "            print(\"Ngăn xếp đã đầy, không thể thêm!\")\n",
    "        else:\n",
    "            self.top += 1\n",
    "            self.stack[self.top] = float(value)\n",
    "            print(f\"Đã đưa {value} vào ngăn xếp.\")\n",
    "    def pop(self):\n",
    "        if self.isEmpty():\n",
    "            print(\"Ngăn xếp rỗng, không thể lấy phần tử!\")\n",
    "            return None\n",
    "        else:\n",
    "            value = self.stack[self.top]\n",
    "            self.top -= 1\n",
    "            print(f\"Đã lấy {value} ra khỏi ngăn xếp.\")\n",
    "            return value\n",
    "if __name__ == \"__main__\":\n",
    "    n = int(input(\"Nhập kích thước ngăn xếp: \"))\n",
    "    st = Stack(n)\n",
    "    st.push(3.5)\n",
    "    st.push(7.2)\n",
    "    st.push(1.8)\n",
    "    st.pop()\n",
    "    st.pop()\n",
    "    st.pop()\n",
    "    st.pop()\n"
   ]
  },
  {
   "cell_type": "code",
   "execution_count": 20,
   "id": "5b38dfe9",
   "metadata": {},
   "outputs": [
    {
     "name": "stdout",
     "output_type": "stream",
     "text": [
      "Ngăn xếp đã được giải phóng.\n",
      "Đã đưa 10 vào ngăn xếp.\n",
      "Đã đưa 20 vào ngăn xếp.\n",
      "Đã đưa 30 vào ngăn xếp.\n",
      "Số phần tử hiện có trong ngăn xếp: 3\n",
      "Đã lấy 30.0 ra khỏi ngăn xếp.\n",
      "Số phần tử hiện có sau khi pop: 2\n"
     ]
    }
   ],
   "source": [
    "#Bài 5\n",
    "class Stack:\n",
    "    def __init__(self, capacity):\n",
    "        self.capacity = capacity\n",
    "        self.stack = [0.0] * capacity  \n",
    "        self.top = -1                 \n",
    "    def __del__(self):\n",
    "        print(\"Ngăn xếp đã được giải phóng.\")\n",
    "    def isEmpty(self):\n",
    "        return self.top == -1\n",
    "    def isFull(self):\n",
    "        return self.top == self.capacity - 1\n",
    "    def push(self, value):\n",
    "        if self.isFull():\n",
    "            print(\"Ngăn xếp đã đầy, không thể thêm!\")\n",
    "        else:\n",
    "            self.top += 1\n",
    "            self.stack[self.top] = float(value)\n",
    "            print(f\"Đã đưa {value} vào ngăn xếp.\")\n",
    "    def pop(self):\n",
    "        if self.isEmpty():\n",
    "            print(\"Ngăn xếp rỗng, không thể lấy phần tử!\")\n",
    "            return None\n",
    "        else:\n",
    "            value = self.stack[self.top]\n",
    "            self.top -= 1\n",
    "            print(f\"Đã lấy {value} ra khỏi ngăn xếp.\")\n",
    "            return value\n",
    "    def count(self):\n",
    "        return self.top + 1\n",
    "if __name__ == \"__main__\":\n",
    "    n = int(input(\"Nhập kích thước ngăn xếp: \"))\n",
    "    st = Stack(n)\n",
    "    st.push(10)\n",
    "    st.push(20)\n",
    "    st.push(30)\n",
    "    print(\"Số phần tử hiện có trong ngăn xếp:\", st.count())\n",
    "    st.pop()\n",
    "    print(\"Số phần tử hiện có sau khi pop:\", st.count())\n"
   ]
  },
  {
   "cell_type": "code",
   "execution_count": 21,
   "id": "ef605f56",
   "metadata": {},
   "outputs": [
    {
     "name": "stdout",
     "output_type": "stream",
     "text": [
      "Ngăn xếp đã được giải phóng.\n",
      "Số phần tử hiện có: 3\n",
      "Số phần tử sau khi pop: 2\n"
     ]
    }
   ],
   "source": [
    "#Bài 6\n",
    "class Stack:\n",
    "    def __init__(self, capacity):\n",
    "        self.capacity = capacity\n",
    "        self.stack = [0.0] * capacity\n",
    "        self.top = -1\n",
    "    def __del__(self):\n",
    "        print(\"Đã giải phóng ngăn xếp.\")\n",
    "    def isEmpty(self):\n",
    "        return self.top == -1\n",
    "    def isFull(self):\n",
    "        return self.top == self.capacity - 1\n",
    "    def push(self, value):\n",
    "        if self.isFull():\n",
    "            print(\"Ngăn xếp đầy, không thể thêm!\")\n",
    "        else:\n",
    "            self.top += 1\n",
    "            self.stack[self.top] = float(value)\n",
    "    def pop(self):\n",
    "        if self.isEmpty():\n",
    "            print(\"Ngăn xếp rỗng, không thể lấy phần tử!\")\n",
    "            return None\n",
    "        else:\n",
    "            value = self.stack[self.top]\n",
    "            self.top -= 1\n",
    "            return value\n",
    "    def count(self):\n",
    "        return self.top + 1\n",
    "if __name__ == \"__main__\":\n",
    "    n = int(input(\"Nhập kích thước ngăn xếp: \"))\n",
    "    st = Stack(n)\n",
    "    st.push(5.5)\n",
    "    st.push(7.2)\n",
    "    st.push(9.1)\n",
    "    print(\"Số phần tử hiện có:\", st.count())\n",
    "    st.pop()\n",
    "    print(\"Số phần tử sau khi pop:\", st.count())\n"
   ]
  }
 ],
 "metadata": {
  "kernelspec": {
   "display_name": "Python 3",
   "language": "python",
   "name": "python3"
  },
  "language_info": {
   "codemirror_mode": {
    "name": "ipython",
    "version": 3
   },
   "file_extension": ".py",
   "mimetype": "text/x-python",
   "name": "python",
   "nbconvert_exporter": "python",
   "pygments_lexer": "ipython3",
   "version": "3.13.7"
  }
 },
 "nbformat": 4,
 "nbformat_minor": 5
}
